{
 "cells": [
  {
   "cell_type": "markdown",
   "id": "fc548c30",
   "metadata": {},
   "source": [
    "# Naive Bayes algorithm\n",
    "\n",
    "The assumption is that:\n",
    "$$ p(x_1, ... , x_n | y) = \\prod^n_{j=1} p(x_j|y) $$\n",
    "\n",
    "so likelihood of the data can be written as:\n",
    "\n",
    "$$ L(\\phi_y, \\phi_{j|y}) = \\prod^n_{i=1}p(x^{(i)}, y^{(i)}) $$\n",
    "\n",
    "and parameters that maximize that likelihood are (for $k$ classes and $p$ possible $x_j$ values):\n",
    "\n",
    "(Laplace smoothing is also applied - adding 1 to nominator and k to denominator of $p(x_j = p | y = k)$\n",
    "\n",
    "\n",
    "$$ p(y = k ) = \\frac{\\sum^n_{i=1} 1 \\{ y^{(i)} = k \\} }{n} $$\n",
    "\n",
    "\n",
    "$$ p(x_j = p | y = k) \\frac{\\sum^n_{i=1} 1 \\{ y^{(i)} = k \\wedge x_j^{(i)}=p \\} + 1}{\\sum^n_{i=1} 1 \\{ y^{(i)} = k \\} + k}$$\n",
    "\n",
    "so \n",
    "$$ p(y=k|x) = \\frac{p(x|y=k)p(y=k)}{p(x)} $$\n",
    "$p(x)$ is constant so when predicting we can only consider the nominator"
   ]
  },
  {
   "cell_type": "code",
   "execution_count": null,
   "id": "cf2cba7c",
   "metadata": {},
   "outputs": [],
   "source": [
    "def predict(x_p, args, labels):\n",
    "    preds = np.empty(0)\n",
    "    classes_cnt = labels.shape[1]\n",
    "    n = labels.shape[0]\n",
    "    for i in range(classes_cnt):\n",
    "        cnt_y_i = np.count_nonzero(labels[:, i])\n",
    "        x_given_y_k = ((np.count_nonzero(np.multiply(args, labels[:, i].reshape(n, 1)) == x_p, axis=0)) + 1) \\\n",
    "            / (cnt_y_i + classes_cnt)\n",
    "        preds = np.append(preds, np.prod(x_given_y_k) * (cnt_y_i / n))\n",
    "    return preds\n"
   ]
  },
  {
   "cell_type": "markdown",
   "id": "16ed6ff5",
   "metadata": {},
   "source": [
    "For presentation purposes additional predict function for k=2 classes is added"
   ]
  },
  {
   "cell_type": "code",
   "execution_count": null,
   "id": "d2c041d9",
   "metadata": {},
   "outputs": [],
   "source": [
    "def pred_0_1(x_p, args, labels):\n",
    "    a = predict(x_p, args, labels)\n",
    "    if a[0] < a[1]:\n",
    "        return 1\n",
    "    else:\n",
    "        return 0"
   ]
  },
  {
   "cell_type": "markdown",
   "id": "a16d30dd",
   "metadata": {},
   "source": [
    "Since we are dealing (in case of examplary data) with continous values, a discretization is needed"
   ]
  },
  {
   "cell_type": "code",
   "execution_count": null,
   "id": "07d05bbb",
   "metadata": {},
   "outputs": [],
   "source": [
    "def train(x, y, k):\n",
    "    discretization_constant = 1\n",
    "    n = len(y)\n",
    "    labels = np.zeros((len(y), k))\n",
    "    args = np.zeros(x.shape)\n",
    "    for i in range(n):\n",
    "        labels[i, y[i]] = 1\n",
    "        for j in range(x.shape[1]):\n",
    "            args[i, j] = x[i, j] // discretization_constant"
   ]
  },
  {
   "cell_type": "markdown",
   "id": "f202b10c",
   "metadata": {},
   "source": [
    "Visualisation of resulting split in data:\n",
    "\n",
    "(Correctly classified data is colored red/blue depending on class, and missclassified points are green)"
   ]
  },
  {
   "cell_type": "code",
   "execution_count": null,
   "id": "a0940323",
   "metadata": {},
   "outputs": [],
   "source": [
    "    err = 0\n",
    "    for i in range(n):\n",
    "        a = pred_0_1(x[i, :].reshape(1, x.shape[1])//discretization_constant, args, labels)\n",
    "        if y[i] != a:\n",
    "            color = '#01ff01'\n",
    "            err += 1\n",
    "        elif a == 1:\n",
    "            color = '#ff2200'\n",
    "        else:\n",
    "            color = '#1f77b4'\n",
    "        plt.scatter(x[i, 0], x[i, 1], c=color)\n",
    "\n",
    "    plt.show()\n",
    "    print(err)"
   ]
  },
  {
   "cell_type": "markdown",
   "id": "89ca0fcd",
   "metadata": {},
   "source": [
    "![\"plot\"](plot.png)"
   ]
  }
 ],
 "metadata": {
  "kernelspec": {
   "display_name": "Python 3 (ipykernel)",
   "language": "python",
   "name": "python3"
  },
  "language_info": {
   "codemirror_mode": {
    "name": "ipython",
    "version": 3
   },
   "file_extension": ".py",
   "mimetype": "text/x-python",
   "name": "python",
   "nbconvert_exporter": "python",
   "pygments_lexer": "ipython3",
   "version": "3.9.10"
  }
 },
 "nbformat": 4,
 "nbformat_minor": 5
}
